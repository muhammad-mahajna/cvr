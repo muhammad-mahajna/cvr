{
 "cells": [
  {
   "cell_type": "code",
   "execution_count": 8,
   "metadata": {},
   "outputs": [],
   "source": [
    "import nibabel as nib\n",
    "import numpy as np\n",
    "import torch\n",
    "from sklearn.preprocessing import StandardScaler\n",
    "import os\n",
    "from CNN1DModel import CNN1DModel\n",
    "\n"
   ]
  },
  {
   "cell_type": "code",
   "execution_count": 9,
   "metadata": {},
   "outputs": [],
   "source": [
    "def predict_cvr_map(fmri_file_path, model_path, output_file_path):\n",
    "    \"\"\"\n",
    "    Predict a CVR map from an fMRI scan using a trained 1D CNN model.\n",
    "\n",
    "    Args:\n",
    "        fmri_file_path (str): Path to the input fMRI NIfTI file.\n",
    "        model_path (str): Path to the trained model state dictionary (.pth).\n",
    "        output_file_path (str): Path to save the predicted CVR map (NIfTI file).\n",
    "    \"\"\"\n",
    "    # Load the fMRI scan\n",
    "    print(f\"Loading fMRI scan from {fmri_file_path}...\")\n",
    "    fmri_img = nib.load(fmri_file_path)\n",
    "    fmri_data = fmri_img.get_fdata()  # Shape: (X, Y, Z, T)\n",
    "\n",
    "    # Normalize the fMRI data along the time dimension\n",
    "    print(\"Normalizing fMRI data...\")\n",
    "    scaler = StandardScaler()\n",
    "    fmri_data_flat = fmri_data.reshape(-1, fmri_data.shape[-1])  # Flatten spatial dimensions\n",
    "    fmri_data_normalized = scaler.fit_transform(fmri_data_flat).reshape(fmri_data.shape)\n",
    "\n",
    "    # Prepare model\n",
    "    input_size = fmri_data.shape[-1]  # Use time dimension as input size\n",
    "    print(f\"Initializing model with input_size={input_size}...\")\n",
    "    model = CNN1DModel(input_size=input_size)\n",
    "\n",
    "    print(f\"Loading model weights from {model_path}...\")\n",
    "    state_dict = torch.load(model_path, map_location=torch.device('cpu'))\n",
    "    model.load_state_dict(state_dict)\n",
    "    model.eval()\n",
    "\n",
    "    # Predict CVR map slice by slice\n",
    "    print(\"Predicting CVR map...\")\n",
    "    cvr_map = np.zeros(fmri_data.shape[:3])  # Initialize empty CVR map\n",
    "\n",
    "    for x in range(fmri_data.shape[0]):\n",
    "        for y in range(fmri_data.shape[1]):\n",
    "            for z in range(fmri_data.shape[2]):\n",
    "                # Extract 1D time-series for each voxel\n",
    "                voxel_time_series = fmri_data_normalized[x, y, z, :].reshape(1, 1, -1)  # Shape: (batch=1, channel=1, time)\n",
    "                input_tensor = torch.tensor(voxel_time_series, dtype=torch.float32)\n",
    "\n",
    "                # Predict CVR value for the voxel\n",
    "                with torch.no_grad():\n",
    "                    cvr_value = model(input_tensor).item()  # Get scalar output\n",
    "                cvr_map[x, y, z] = cvr_value\n",
    "\n",
    "    # Save the predicted CVR map as a NIfTI file\n",
    "    print(f\"Saving predicted CVR map to {output_file_path}...\")\n",
    "    predicted_cvr_img = nib.Nifti1Image(cvr_map, affine=fmri_img.affine)\n",
    "    nib.save(predicted_cvr_img, output_file_path)\n",
    "\n",
    "    print(f\"Predicted CVR map saved successfully at {output_file_path}\")"
   ]
  },
  {
   "cell_type": "code",
   "execution_count": null,
   "metadata": {},
   "outputs": [
    {
     "name": "stdout",
     "output_type": "stream",
     "text": [
      "Loading fMRI scan from /Users/muhammadmahajna/workspace/research/data/cvr_est_project/func/registered/main_data/training/SF_01035_2_T1.nii.gz...\n",
      "Normalizing fMRI data...\n",
      "Initializing model with input_size=435...\n",
      "Loading model weights from best_model.pth...\n",
      "Predicting CVR map...\n"
     ]
    },
    {
     "name": "stderr",
     "output_type": "stream",
     "text": [
      "/var/folders/_m/p9lrk0vj7l9dgy03bgtt6sm80000gn/T/ipykernel_32346/4068345220.py:27: FutureWarning: You are using `torch.load` with `weights_only=False` (the current default value), which uses the default pickle module implicitly. It is possible to construct malicious pickle data which will execute arbitrary code during unpickling (See https://github.com/pytorch/pytorch/blob/main/SECURITY.md#untrusted-models for more details). In a future release, the default value for `weights_only` will be flipped to `True`. This limits the functions that could be executed during unpickling. Arbitrary objects will no longer be allowed to be loaded via this mode unless they are explicitly allowlisted by the user via `torch.serialization.add_safe_globals`. We recommend you start setting `weights_only=True` for any use case where you don't have full control of the loaded file. Please open an issue on GitHub for any issues related to this experimental feature.\n",
      "  state_dict = torch.load(model_path, map_location=torch.device('cpu'))\n"
     ]
    },
    {
     "name": "stdout",
     "output_type": "stream",
     "text": [
      "Saving predicted CVR map to output_cvr_map.nii...\n",
      "Predicted CVR map saved successfully at output_cvr_map.nii\n"
     ]
    }
   ],
   "source": [
    "# Main function to call the prediction script\n",
    "if __name__ == \"__main__\":\n",
    "    # Define paths\n",
    "    fmri_file_path = \"/Users/muhammadmahajna/workspace/research/data/cvr_est_project/CVR_MAPS/registered/testing/SF_01138_CVR_2_T1.nii.gz\"\n",
    "    \n",
    "    model_path = \"best_model.pth\"\n",
    "    output_file_path = \"output_cvr_map.nii\"\n",
    "\n",
    "    # Check if paths exist\n",
    "    if not os.path.exists(fmri_file_path):\n",
    "        raise FileNotFoundError(f\"Input fMRI file not found at {fmri_file_path}\")\n",
    "    if not os.path.exists(model_path):\n",
    "        raise FileNotFoundError(f\"Trained model file not found at {model_path}\")\n",
    "\n",
    "    # Predict the CVR map\n",
    "    predict_cvr_map(fmri_file_path, model_path, output_file_path)\n"
   ]
  }
 ],
 "metadata": {
  "kernelspec": {
   "display_name": "Python 3",
   "language": "python",
   "name": "python3"
  },
  "language_info": {
   "codemirror_mode": {
    "name": "ipython",
    "version": 3
   },
   "file_extension": ".py",
   "mimetype": "text/x-python",
   "name": "python",
   "nbconvert_exporter": "python",
   "pygments_lexer": "ipython3",
   "version": "3.12.5"
  }
 },
 "nbformat": 4,
 "nbformat_minor": 2
}
