{
 "cells": [
  {
   "cell_type": "code",
   "execution_count": 1,
   "metadata": {},
   "outputs": [],
   "source": [
    "# Imports\n",
    "import nibabel as nib\n",
    "import numpy as np\n",
    "import torch\n",
    "import os\n",
    "from CNN1DModel import CNN1DModel\n",
    "from utils import save_cvr_as_3d_mat\n",
    "from utils import normalize_fmri_timeseries\n",
    "from utils import extract_subject_id\n",
    "from utils import save_fmri_as_4d_mat\n"
   ]
  },
  {
   "cell_type": "code",
   "execution_count": 2,
   "metadata": {},
   "outputs": [],
   "source": [
    "# Define Common directories \n",
    "\n",
    "BASE_DIR = \"/Users/muhammadmahajna/workspace/research/data/cvr_est_project\"\n",
    "OUT_DIR = \"./output/\"\n",
    "\n",
    "if not os.path.exists(OUT_DIR):\n",
    "    os.makedirs(OUT_DIR)\n",
    "\n",
    "# Subdirectories\n",
    "TRAIN_INPUT_DIR = os.path.join(BASE_DIR, \"func/registered/main_data/training\")\n",
    "VAL_INPUT_DIR = os.path.join(BASE_DIR, \"func/registered/main_data/validation\")\n",
    "TEST_INPUT_DIR = os.path.join(BASE_DIR, \"func/registered/main_data/testing\")\n",
    "\n",
    "TRAIN_TARGET_DIR = os.path.join(BASE_DIR, \"CVR_MAPS/registered/training\")\n",
    "VAL_TARGET_DIR = os.path.join(BASE_DIR, \"CVR_MAPS/registered/validation\")\n",
    "TEST_TARGET_DIR = os.path.join(BASE_DIR, \"CVR_MAPS/registered/testing\")\n",
    "\n",
    "input_dir = TRAIN_INPUT_DIR\n",
    "target_dir = TRAIN_TARGET_DIR\n",
    "\n",
    "input_files = sorted([os.path.join(input_dir, f) for f in os.listdir(input_dir) if f.endswith(('.nii', '.nii.gz'))])\n",
    "target_files = sorted([os.path.join(target_dir, f) for f in os.listdir(target_dir) if f.endswith(('.nii', '.nii.gz'))])\n"
   ]
  },
  {
   "cell_type": "code",
   "execution_count": null,
   "metadata": {},
   "outputs": [],
   "source": [
    "import numpy as np\n",
    "\n",
    "from scipy.io import savemat\n",
    "npy_file = \"val_inputs.npy\"\n",
    "mat_file = \"val_inputs.mat\"\n",
    "data = np.load(npy_file)\n",
    "variable_name=\"data\"\n",
    "# Save as .mat file\n",
    "savemat(mat_file, {variable_name: data})"
   ]
  },
  {
   "cell_type": "code",
   "execution_count": null,
   "metadata": {},
   "outputs": [],
   "source": [
    "# Save input and target data as mat files for visualization\n",
    "for fmri_file_path in input_files:\n",
    "    subject_id = extract_subject_id(fmri_file_path)\n",
    "    \n",
    "    output_file_path = os.path.join(OUT_DIR, subject_id + \"_4D.mat\")\n",
    "    print(\"Saving results as MAT files\")\n",
    "    print(output_file_path)\n",
    "    \n",
    "    save_fmri_as_4d_mat(fmri_file_path, output_file_path, remove_time_points=5)\n",
    "\n",
    "for cvr_file_path in target_files:\n",
    "    subject_id = extract_subject_id(cvr_file_path)\n",
    "    \n",
    "    output_file_path = os.path.join(OUT_DIR, subject_id + \"_CVR.mat\")\n",
    "    print(\"Saving results as MAT files\")\n",
    "    print(output_file_path)\n",
    "    \n",
    "    save_cvr_as_3d_mat(cvr_file_path, output_file_path)\n",
    "    \n"
   ]
  },
  {
   "cell_type": "code",
   "execution_count": 3,
   "metadata": {},
   "outputs": [],
   "source": [
    "REMOVE_TIME_POINT = 5  # Remove the first samples from the fMRI data\n",
    "DATA_THRESHOLD = 1\n",
    "ZERO_COUNT_THRESHOLD = 43 # 10%x430\n",
    "\n",
    "def predict_cvr_map(fmri_file_path, model_path, output_file_path, model):\n",
    "    \"\"\"\n",
    "    Predict a CVR map from an fMRI scan using a trained 1D CNN model.\n",
    "\n",
    "    Args:\n",
    "        fmri_file_path (str): Path to the input fMRI NIfTI file.\n",
    "        model_path (str): Path to the trained model state dictionary (.pth).\n",
    "        output_file_path (str): Path to save the predicted CVR map (NIfTI file).\n",
    "    \"\"\"\n",
    "    # Load the fMRI scan\n",
    "    print(f\"Loading fMRI scan from {fmri_file_path}...\")\n",
    "    fmri_img = nib.load(fmri_file_path)\n",
    "    fmri_data = fmri_img.get_fdata()  # Shape: (X, Y, Z, T)\n",
    "    fmri_data = fmri_data[..., REMOVE_TIME_POINT:]  # Remove initial time points\n",
    "\n",
    "    # Normalize the fMRI data along the time dimension\n",
    "    print(\"Normalizing fMRI data...\")\n",
    "    #fmri_data_normalized, _ = normalize_fmri_timeseries(fmri_data)\n",
    "    fmri_data_normalized = fmri_data\n",
    "    \n",
    "    # Prepare model\n",
    "    input_size = fmri_data.shape[-1]  # Use time dimension as input size\n",
    "    print(f\"Initializing model with input_size={input_size}...\")\n",
    "\n",
    "    device = torch.device('cpu')\n",
    "    print(f\"Loading model weights from {model_path}...\")\n",
    "    state_dict = torch.load(model_path, map_location=device)\n",
    "    model.load_state_dict(state_dict)\n",
    "    model.eval()\n",
    "    \n",
    "    # Predict CVR map slice by slice\n",
    "    print(\"Predicting CVR map...\")\n",
    "    cvr_map = np.zeros(fmri_data.shape[:3])  # Initialize empty CVR map\n",
    "\n",
    "    for x in range(fmri_data.shape[0]):\n",
    "        for y in range(fmri_data.shape[1]):\n",
    "            for z in range(fmri_data.shape[2]):\n",
    "                # Extract 1D time-series for each voxel\n",
    "                voxel_time_series = fmri_data_normalized[x, y, z, :].reshape(1, 1, -1)  # Shape: (batch=1, channel=1, time)\n",
    "\n",
    "                voxel_time_series[voxel_time_series < DATA_THRESHOLD] = 0\n",
    "\n",
    "                # Check if the voxel time series is all zeros\n",
    "                if np.sum(voxel_time_series == 0) > ZERO_COUNT_THRESHOLD:\n",
    "                    cvr_value = 0.0  # Set CVR value to zero\n",
    "                else:\n",
    "                    # Predict CVR value for the voxel\n",
    "                    input_tensor = torch.tensor(voxel_time_series, dtype=torch.float32)\n",
    "                    with torch.no_grad():\n",
    "                        cvr_value = model(input_tensor)[0].item()  # Get scalar output\n",
    "\n",
    "                cvr_map[x, y, z] = cvr_value\n",
    "\n",
    "    # Save the predicted CVR map as a NIfTI file\n",
    "    print(f\"Saving predicted CVR map to {output_file_path}...\")\n",
    "    predicted_cvr_img = nib.Nifti1Image(cvr_map, affine=fmri_img.affine)\n",
    "    nib.save(predicted_cvr_img, output_file_path)\n",
    "\n",
    "    print(f\"Predicted CVR map saved successfully at {output_file_path}\")"
   ]
  },
  {
   "cell_type": "code",
   "execution_count": null,
   "metadata": {},
   "outputs": [
    {
     "name": "stdout",
     "output_type": "stream",
     "text": [
      "Loading fMRI scan from /Users/muhammadmahajna/workspace/research/data/cvr_est_project/func/registered/main_data/training/SF_01035_2_T1.nii.gz...\n",
      "Normalizing fMRI data...\n",
      "Initializing model with input_size=430...\n",
      "Loading model weights from best_model_no_norm.pth...\n"
     ]
    },
    {
     "name": "stderr",
     "output_type": "stream",
     "text": [
      "/var/folders/_m/p9lrk0vj7l9dgy03bgtt6sm80000gn/T/ipykernel_87038/2868135801.py:31: FutureWarning: You are using `torch.load` with `weights_only=False` (the current default value), which uses the default pickle module implicitly. It is possible to construct malicious pickle data which will execute arbitrary code during unpickling (See https://github.com/pytorch/pytorch/blob/main/SECURITY.md#untrusted-models for more details). In a future release, the default value for `weights_only` will be flipped to `True`. This limits the functions that could be executed during unpickling. Arbitrary objects will no longer be allowed to be loaded via this mode unless they are explicitly allowlisted by the user via `torch.serialization.add_safe_globals`. We recommend you start setting `weights_only=True` for any use case where you don't have full control of the loaded file. Please open an issue on GitHub for any issues related to this experimental feature.\n",
      "  state_dict = torch.load(model_path, map_location=device)\n"
     ]
    },
    {
     "ename": "RuntimeError",
     "evalue": "Error(s) in loading state_dict for CNN1DModel:\n\tMissing key(s) in state_dict: \"positional_encoding.pe\". ",
     "output_type": "error",
     "traceback": [
      "\u001b[0;31m---------------------------------------------------------------------------\u001b[0m",
      "\u001b[0;31mRuntimeError\u001b[0m                              Traceback (most recent call last)",
      "Cell \u001b[0;32mIn[5], line 12\u001b[0m\n\u001b[1;32m      9\u001b[0m output_file_path \u001b[38;5;241m=\u001b[39m \u001b[38;5;124m\"\u001b[39m\u001b[38;5;124mSF_01138_PRED.nii\u001b[39m\u001b[38;5;124m\"\u001b[39m\n\u001b[1;32m     11\u001b[0m \u001b[38;5;66;03m# Predict the CVR map\u001b[39;00m\n\u001b[0;32m---> 12\u001b[0m \u001b[43mpredict_cvr_map\u001b[49m\u001b[43m(\u001b[49m\u001b[43mfmri_file_path\u001b[49m\u001b[43m,\u001b[49m\u001b[43m \u001b[49m\u001b[43mmodel_path\u001b[49m\u001b[43m,\u001b[49m\u001b[43m \u001b[49m\u001b[43moutput_file_path\u001b[49m\u001b[43m,\u001b[49m\u001b[43m \u001b[49m\u001b[43mmodel_cnn\u001b[49m\u001b[43m)\u001b[49m\n\u001b[1;32m     14\u001b[0m save_cvr_as_3d_mat(output_file_path, output_file_path\u001b[38;5;241m.\u001b[39mreplace(\u001b[38;5;124m\"\u001b[39m\u001b[38;5;124m.nii\u001b[39m\u001b[38;5;124m\"\u001b[39m, \u001b[38;5;124m\"\u001b[39m\u001b[38;5;124m.mat\u001b[39m\u001b[38;5;124m\"\u001b[39m))\n\u001b[1;32m     15\u001b[0m save_cvr_as_3d_mat(ref_cvr_map_file, output_file_path\u001b[38;5;241m.\u001b[39mreplace(\u001b[38;5;124m\"\u001b[39m\u001b[38;5;124m_PRED.nii\u001b[39m\u001b[38;5;124m\"\u001b[39m, \u001b[38;5;124m\"\u001b[39m\u001b[38;5;124m_ref.mat\u001b[39m\u001b[38;5;124m\"\u001b[39m))\n",
      "Cell \u001b[0;32mIn[3], line 32\u001b[0m, in \u001b[0;36mpredict_cvr_map\u001b[0;34m(fmri_file_path, model_path, output_file_path, model)\u001b[0m\n\u001b[1;32m     30\u001b[0m \u001b[38;5;28mprint\u001b[39m(\u001b[38;5;124mf\u001b[39m\u001b[38;5;124m\"\u001b[39m\u001b[38;5;124mLoading model weights from \u001b[39m\u001b[38;5;132;01m{\u001b[39;00mmodel_path\u001b[38;5;132;01m}\u001b[39;00m\u001b[38;5;124m...\u001b[39m\u001b[38;5;124m\"\u001b[39m)\n\u001b[1;32m     31\u001b[0m state_dict \u001b[38;5;241m=\u001b[39m torch\u001b[38;5;241m.\u001b[39mload(model_path, map_location\u001b[38;5;241m=\u001b[39mdevice)\n\u001b[0;32m---> 32\u001b[0m \u001b[43mmodel\u001b[49m\u001b[38;5;241;43m.\u001b[39;49m\u001b[43mload_state_dict\u001b[49m\u001b[43m(\u001b[49m\u001b[43mstate_dict\u001b[49m\u001b[43m)\u001b[49m\n\u001b[1;32m     33\u001b[0m model\u001b[38;5;241m.\u001b[39meval()\n\u001b[1;32m     35\u001b[0m \u001b[38;5;66;03m# Predict CVR map slice by slice\u001b[39;00m\n",
      "File \u001b[0;32m/Library/Frameworks/Python.framework/Versions/3.12/lib/python3.12/site-packages/torch/nn/modules/module.py:2215\u001b[0m, in \u001b[0;36mModule.load_state_dict\u001b[0;34m(self, state_dict, strict, assign)\u001b[0m\n\u001b[1;32m   2210\u001b[0m         error_msgs\u001b[38;5;241m.\u001b[39minsert(\n\u001b[1;32m   2211\u001b[0m             \u001b[38;5;241m0\u001b[39m, \u001b[38;5;124m'\u001b[39m\u001b[38;5;124mMissing key(s) in state_dict: \u001b[39m\u001b[38;5;132;01m{}\u001b[39;00m\u001b[38;5;124m. \u001b[39m\u001b[38;5;124m'\u001b[39m\u001b[38;5;241m.\u001b[39mformat(\n\u001b[1;32m   2212\u001b[0m                 \u001b[38;5;124m'\u001b[39m\u001b[38;5;124m, \u001b[39m\u001b[38;5;124m'\u001b[39m\u001b[38;5;241m.\u001b[39mjoin(\u001b[38;5;124mf\u001b[39m\u001b[38;5;124m'\u001b[39m\u001b[38;5;124m\"\u001b[39m\u001b[38;5;132;01m{\u001b[39;00mk\u001b[38;5;132;01m}\u001b[39;00m\u001b[38;5;124m\"\u001b[39m\u001b[38;5;124m'\u001b[39m \u001b[38;5;28;01mfor\u001b[39;00m k \u001b[38;5;129;01min\u001b[39;00m missing_keys)))\n\u001b[1;32m   2214\u001b[0m \u001b[38;5;28;01mif\u001b[39;00m \u001b[38;5;28mlen\u001b[39m(error_msgs) \u001b[38;5;241m>\u001b[39m \u001b[38;5;241m0\u001b[39m:\n\u001b[0;32m-> 2215\u001b[0m     \u001b[38;5;28;01mraise\u001b[39;00m \u001b[38;5;167;01mRuntimeError\u001b[39;00m(\u001b[38;5;124m'\u001b[39m\u001b[38;5;124mError(s) in loading state_dict for \u001b[39m\u001b[38;5;132;01m{}\u001b[39;00m\u001b[38;5;124m:\u001b[39m\u001b[38;5;130;01m\\n\u001b[39;00m\u001b[38;5;130;01m\\t\u001b[39;00m\u001b[38;5;132;01m{}\u001b[39;00m\u001b[38;5;124m'\u001b[39m\u001b[38;5;241m.\u001b[39mformat(\n\u001b[1;32m   2216\u001b[0m                        \u001b[38;5;28mself\u001b[39m\u001b[38;5;241m.\u001b[39m\u001b[38;5;18m__class__\u001b[39m\u001b[38;5;241m.\u001b[39m\u001b[38;5;18m__name__\u001b[39m, \u001b[38;5;124m\"\u001b[39m\u001b[38;5;130;01m\\n\u001b[39;00m\u001b[38;5;130;01m\\t\u001b[39;00m\u001b[38;5;124m\"\u001b[39m\u001b[38;5;241m.\u001b[39mjoin(error_msgs)))\n\u001b[1;32m   2217\u001b[0m \u001b[38;5;28;01mreturn\u001b[39;00m _IncompatibleKeys(missing_keys, unexpected_keys)\n",
      "\u001b[0;31mRuntimeError\u001b[0m: Error(s) in loading state_dict for CNN1DModel:\n\tMissing key(s) in state_dict: \"positional_encoding.pe\". "
     ]
    }
   ],
   "source": [
    "# Define model\n",
    "model_path = \"best_model.pth\"\n",
    "INPUT_SIZE = 435 - 5 # Number of time points\n",
    "model_cnn = CNN1DModel(input_size=INPUT_SIZE)\n",
    "\n",
    "# Define file paths\n",
    "fmri_file_path = \"/Users/muhammadmahajna/workspace/research/data/cvr_est_project/func/registered/main_data/training/SF_01035_2_T1.nii.gz\"\n",
    "ref_cvr_map_file = \"/Users/muhammadmahajna/workspace/research/data/cvr_est_project/CVR_MAPS/registered/training/SF_01035_CVR_2_T1.nii.gz\"\n",
    "output_file_path = \"SF_01138_PRED.nii\"\n",
    "\n",
    "# Predict the CVR map\n",
    "predict_cvr_map(fmri_file_path, model_path, output_file_path, model_cnn)\n",
    "\n",
    "save_cvr_as_3d_mat(output_file_path, output_file_path.replace(\".nii\", \".mat\"))\n",
    "save_cvr_as_3d_mat(ref_cvr_map_file, output_file_path.replace(\"_PRED.nii\", \"_ref.mat\"))\n",
    "\n"
   ]
  },
  {
   "cell_type": "code",
   "execution_count": null,
   "metadata": {},
   "outputs": [],
   "source": [
    "# Define model\n",
    "model_path = \"best_model.pth\"\n",
    "INPUT_SIZE = 435 - 5 # Number of time points\n",
    "model_cnn = CNN1DModel(input_size=INPUT_SIZE)\n"
   ]
  },
  {
   "cell_type": "code",
   "execution_count": null,
   "metadata": {},
   "outputs": [],
   "source": [
    "\n",
    "for fmri_file_path in input_files:\n",
    "    subject_id = extract_subject_id(fmri_file_path)\n",
    "    \n",
    "    output_file_path = os.path.join(OUT_DIR, subject_id + \"_PRED.nii\")\n",
    "    print(output_file_path)\n",
    "    predict_cvr_map(fmri_file_path, model_path, output_file_path, model_cnn)\n",
    "    \n",
    "    \n",
    "    print(\"Saving results as MAT files\")\n",
    "    save_cvr_as_3d_mat(output_file_path, output_file_path.replace(\".nii\", \".mat\"))\n",
    "    matches = [file for file in target_files if subject_id in file]\n",
    "    if matches:\n",
    "        ref_cvr_map_file = matches[0]\n",
    "        save_cvr_as_3d_mat(ref_cvr_map_file, output_file_path.replace(\"_PRED.nii\", \"_ref.mat\"))\n",
    "    else:\n",
    "        print(\"Could not locate the reference CVR file\")\n",
    "\n",
    "    break"
   ]
  }
 ],
 "metadata": {
  "kernelspec": {
   "display_name": "Python 3",
   "language": "python",
   "name": "python3"
  },
  "language_info": {
   "codemirror_mode": {
    "name": "ipython",
    "version": 3
   },
   "file_extension": ".py",
   "mimetype": "text/x-python",
   "name": "python",
   "nbconvert_exporter": "python",
   "pygments_lexer": "ipython3",
   "version": "3.12.5"
  }
 },
 "nbformat": 4,
 "nbformat_minor": 2
}
